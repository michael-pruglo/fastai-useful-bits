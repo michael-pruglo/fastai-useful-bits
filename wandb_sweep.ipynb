{
  "nbformat": 4,
  "nbformat_minor": 0,
  "metadata": {
    "colab": {
      "private_outputs": true,
      "provenance": [],
      "collapsed_sections": []
    },
    "kernelspec": {
      "name": "python3",
      "display_name": "Python 3"
    },
    "language_info": {
      "name": "python"
    },
    "gpuClass": "standard",
    "accelerator": "GPU"
  },
  "cells": [
    {
      "cell_type": "code",
      "source": [
        "#colab setup\n",
        "!pip install timm\n",
        "import timm\n",
        "\n",
        "!pip install -Uqq fastbook\n",
        "import fastbook\n",
        "fastbook.setup_book()\n",
        "\n",
        "from fastai.vision.all import *"
      ],
      "metadata": {
        "id": "H7fGrpwm77XV"
      },
      "execution_count": null,
      "outputs": []
    },
    {
      "cell_type": "code",
      "source": [
        "!pip install wandb -Uq\n",
        "import wandb\n",
        "wandb.login()"
      ],
      "metadata": {
        "id": "ot1QHJC833pp"
      },
      "execution_count": null,
      "outputs": []
    },
    {
      "cell_type": "code",
      "source": [
        "sweep_config = {\n",
        "    'method': 'grid',\n",
        "    'metric': {'name': 'accuracy','goal': 'maximize'},\n",
        "    'parameters': {\n",
        "        'bs': {'values': [16, 64, 256, 1024]},\n",
        "        'lr': {'values': [0.03, 0.001, 0.0001]},\n",
        "        'aug_trfm': {'values': [False, True]},\n",
        "        'epochs': {'value': 8},\n",
        "    },\n",
        "}\n",
        "sweep_id = wandb.sweep(sweep_config, project=\"mnist_minimal_2\")"
      ],
      "metadata": {
        "id": "N2D3W9nM4KC-"
      },
      "execution_count": null,
      "outputs": []
    },
    {
      "cell_type": "code",
      "source": [
        "import gc\n",
        "from fastai.callback.wandb import WandbCallback\n",
        "\n",
        "def train(config=None):\n",
        "    with wandb.init(config=config, group=\"minimal\"):\n",
        "        cfg = wandb.config\n",
        "        dls = build_dls(cfg.bs, cfg.aug_trfm)\n",
        "        learn_shallow = Learner(dls, ShallowNet(), metrics=accuracy, cbs=[MixedPrecision(), WandbCallback(log_preds=False)])\n",
        "        learn_shallow.fit(cfg.epochs, lr=cfg.lr)\n",
        "\n",
        "        gc.collect()\n",
        "        torch.cuda.empty_cache()"
      ],
      "metadata": {
        "id": "dT9HoeqwK7BZ"
      },
      "execution_count": null,
      "outputs": []
    },
    {
      "cell_type": "code",
      "source": [
        "wandb.agent(sweep_id, train)"
      ],
      "metadata": {
        "id": "9w595oNdObse"
      },
      "execution_count": null,
      "outputs": []
    }
  ]
}