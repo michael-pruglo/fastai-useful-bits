{
 "cells": [
  {
   "cell_type": "code",
   "execution_count": null,
   "metadata": {},
   "outputs": [],
   "source": [
    "test_dl = dls.test_dl(get_image_files(data_path+\"test\"), shuffle=True, with_labels=True)\n",
    "test_dl.show_batch()"
   ]
  },
  {
   "cell_type": "code",
   "execution_count": null,
   "metadata": {},
   "outputs": [],
   "source": [
    "preds = learn.get_preds(dl=test_dl)\n",
    "learn.validate(dl=test_dl)"
   ]
  },
  {
   "cell_type": "code",
   "execution_count": null,
   "metadata": {},
   "outputs": [],
   "source": [
    "accuracy(preds[0], preds[1])"
   ]
  }
 ],
 "metadata": {
  "kernelspec": {
   "display_name": "Python 3.9.13 ('base')",
   "language": "python",
   "name": "python3"
  },
  "language_info": {
   "name": "python",
   "version": "3.9.13"
  },
  "orig_nbformat": 4,
  "vscode": {
   "interpreter": {
    "hash": "f1f939cc381e0fc3af4a8a1b7418d5265e3efb0bbb350b3e606529485a7c6f46"
   }
  }
 },
 "nbformat": 4,
 "nbformat_minor": 2
}
